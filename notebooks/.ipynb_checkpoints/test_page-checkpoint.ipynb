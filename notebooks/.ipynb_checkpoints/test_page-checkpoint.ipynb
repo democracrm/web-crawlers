{
 "cells": [
  {
   "cell_type": "code",
   "execution_count": 81,
   "id": "66e365d8-3a7f-4c61-8ea8-e22e380c8862",
   "metadata": {},
   "outputs": [],
   "source": [
    "import requests\n",
    "import json\n",
    "from pathlib import Path\n",
    "from bs4 import BeautifulSoup\n",
    "from urllib.parse import urlparse"
   ]
  },
  {
   "cell_type": "code",
   "execution_count": 98,
   "id": "a580db00-581c-441b-845f-a403e5a2212e",
   "metadata": {},
   "outputs": [
    {
     "data": {
      "text/plain": [
       "'https://www.palegis.us/legislation/bills/2021/hb1321'"
      ]
     },
     "execution_count": 98,
     "metadata": {},
     "output_type": "execute_result"
    }
   ],
   "source": [
    "url = urlparse('https://www.palegis.us/legislation/bills/2021/hb1321')\n",
    "f'{url.scheme}://{url.netloc}{url.path}'"
   ]
  },
  {
   "cell_type": "code",
   "execution_count": 99,
   "id": "59a12cac-0942-4a07-8b0d-03e0485182e6",
   "metadata": {},
   "outputs": [
    {
     "name": "stdout",
     "output_type": "stream",
     "text": [
      "66040\n"
     ]
    }
   ],
   "source": [
    "html = requests.get(f'{url.scheme}://{url.netloc}{url.path}')\n",
    "print(len(html.text))\n",
    "#print(html.text)\n",
    "page = open('test_page.html', 'w')\n",
    "page.write(html.text)\n",
    "page.close()\n",
    "\n",
    "soup = BeautifulSoup(html.text, 'lxml')"
   ]
  },
  {
   "cell_type": "code",
   "execution_count": 100,
   "id": "f911c418-777f-49af-9669-054c667e0388",
   "metadata": {},
   "outputs": [],
   "source": [
    "main = soup.find(id=\"bodyContainer\")"
   ]
  },
  {
   "cell_type": "code",
   "execution_count": 43,
   "id": "61cf28f6-0770-4ebd-975a-27b7b072852f",
   "metadata": {},
   "outputs": [
    {
     "data": {
      "text/plain": [
       "'House Bill 1321'"
      ]
     },
     "execution_count": 43,
     "metadata": {},
     "output_type": "execute_result"
    }
   ],
   "source": [
    "# Find the bill number\n",
    "main.find('div', class_=\"h1 header-title\").contents[0].strip()"
   ]
  },
  {
   "cell_type": "code",
   "execution_count": 44,
   "id": "f728f0d7-5d51-4583-a339-d8291fcb6169",
   "metadata": {},
   "outputs": [
    {
     "data": {
      "text/plain": [
       "'2021-2022 Regular Session'"
      ]
     },
     "execution_count": 44,
     "metadata": {},
     "output_type": "execute_result"
    }
   ],
   "source": [
    "# Find the bill session\n",
    "main.find('div', class_=\"h5 header-pretitle\").contents[0]"
   ]
  },
  {
   "cell_type": "code",
   "execution_count": 62,
   "id": "915dab37-2a06-4145-b704-53754012d77e",
   "metadata": {},
   "outputs": [
    {
     "data": {
      "text/plain": [
       "'An Act amending the act of March 10, 1949 (P.L.30, No.14), known as the Public School Code of 1949,  in school finances, further providing for fiscal year and for tax levy and limitations.'"
      ]
     },
     "execution_count": 62,
     "metadata": {},
     "output_type": "execute_result"
    }
   ],
   "source": [
    "# Find the bill description\n",
    "main.find('div', class_='d-print-none mt-5').find_all('div', class_='col-md-9')[0].div.contents[0]"
   ]
  },
  {
   "cell_type": "code",
   "execution_count": 80,
   "id": "03d79480-cc72-4c4b-b5bc-9969a97c19fe",
   "metadata": {},
   "outputs": [
    {
     "name": "stdout",
     "output_type": "stream",
     "text": [
      "Extending School Budget Deadlines in State Budget Impasses (Former HB 1227): /house/co-sponsorship/memo?memoID=35277&document=HB1321\n"
     ]
    }
   ],
   "source": [
    "# Find the bill memo\n",
    "memo_title = main.find('div', class_='d-print-none mt-5').find_all('div', class_='col-md-9')[0].a.contents[0].strip()\n",
    "memo_url = main.find('div', class_='d-print-none mt-5').find_all('div', class_='col-md-9')[0].a['href']\n",
    "print(f'{memo_title}: {memo_url}')\n",
    "memo_file = open(memo_title, 'w')\n",
    "memo_data = requests.get('"
   ]
  },
  {
   "cell_type": "code",
   "execution_count": null,
   "id": "72d0c8af-e799-460f-be1a-d20b23f07191",
   "metadata": {},
   "outputs": [],
   "source": []
  }
 ],
 "metadata": {
  "kernelspec": {
   "display_name": "Python 3 (ipykernel)",
   "language": "python",
   "name": "python3"
  },
  "language_info": {
   "codemirror_mode": {
    "name": "ipython",
    "version": 3
   },
   "file_extension": ".py",
   "mimetype": "text/x-python",
   "name": "python",
   "nbconvert_exporter": "python",
   "pygments_lexer": "ipython3",
   "version": "3.13.0rc2"
  }
 },
 "nbformat": 4,
 "nbformat_minor": 5
}
